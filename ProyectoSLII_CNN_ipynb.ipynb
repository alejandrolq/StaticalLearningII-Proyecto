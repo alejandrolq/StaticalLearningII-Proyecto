{
  "nbformat": 4,
  "nbformat_minor": 0,
  "metadata": {
    "colab": {
      "name": "ProyectoSLII-CNN.ipynb.ipynb",
      "provenance": [],
      "mount_file_id": "18xUzG-z2t5_RKEbYxAVEAtpNNO6qqdvK",
      "authorship_tag": "ABX9TyO9NDN18VRhg4RcXwrTs4IG",
      "include_colab_link": true
    },
    "kernelspec": {
      "name": "python3",
      "display_name": "Python 3"
    },
    "language_info": {
      "name": "python"
    }
  },
  "cells": [
    {
      "cell_type": "markdown",
      "metadata": {
        "id": "view-in-github",
        "colab_type": "text"
      },
      "source": [
        "<a href=\"https://colab.research.google.com/github/alejandrolq/StaticalLearningII-Proyecto/blob/main/ProyectoSLII_CNN_ipynb.ipynb\" target=\"_parent\"><img src=\"https://colab.research.google.com/assets/colab-badge.svg\" alt=\"Open In Colab\"/></a>"
      ]
    },
    {
      "cell_type": "markdown",
      "metadata": {
        "id": "UhzBMMrWv2-n"
      },
      "source": [
        "**Nombre: José Alejandro López Quel**\n",
        "\n",
        "**Carné: 21001127**\n",
        "\n",
        "**Statistical Learning II**\n",
        "\n",
        "**Sección U**\n",
        "\n",
        "**Proyecto - Convolutional Neural Network**"
      ]
    },
    {
      "cell_type": "code",
      "metadata": {
        "id": "EEeANhMfvwO7"
      },
      "source": [
        "import os\n",
        "import cv2\n",
        "import numpy as np\n",
        "import pandas as pd\n",
        "import seaborn as sns\n",
        "import tensorflow as tf\n",
        "import matplotlib.pyplot as plt\n",
        "from tensorflow import keras\n",
        "from keras import Sequential\n",
        "from keras import backend as K\n",
        "from keras.models import load_model\n",
        "from google.colab.patches import cv2_imshow\n",
        "from sklearn.metrics import classification_report\n",
        "from sklearn.model_selection import train_test_split\n",
        "from keras.callbacks import ModelCheckpoint, EarlyStopping\n",
        "from keras.layers import Dense, Conv2D , MaxPool2D , Flatten , Dropout \n",
        "from keras.preprocessing.image import ImageDataGenerator, load_img, array_to_img, img_to_array"
      ],
      "execution_count": 2,
      "outputs": []
    },
    {
      "cell_type": "code",
      "metadata": {
        "id": "DMowwbC4w77G"
      },
      "source": [
        "path_name_test = '/content/drive/MyDrive/Statistical Learning II/Proyecto/Datasets/CNN_2/Test'\n",
        "path_name_train = '/content/drive/MyDrive/Statistical Learning II/Proyecto/Datasets/CNN_2/Train'\n",
        "path_name = '/content/drive/MyDrive/Statistical Learning II/Proyecto/Datasets/CNN'\n",
        "file_name = 'SpiderData.csv'"
      ],
      "execution_count": 2,
      "outputs": []
    },
    {
      "cell_type": "code",
      "metadata": {
        "id": "MdOcvsQuxNkz"
      },
      "source": [
        "data = pd.read_csv(os.path.join(path_name, file_name), encoding= 'unicode_escape', delimiter=\";\", header=None)"
      ],
      "execution_count": 3,
      "outputs": []
    },
    {
      "cell_type": "code",
      "metadata": {
        "colab": {
          "base_uri": "https://localhost:8080/",
          "height": 205
        },
        "id": "ip0iXlWMxN2N",
        "outputId": "9098c204-e920-4143-91a9-6d6a0c14d0d8"
      },
      "source": [
        "data.head()"
      ],
      "execution_count": 4,
      "outputs": [
        {
          "output_type": "execute_result",
          "data": {
            "text/html": [
              "<div>\n",
              "<style scoped>\n",
              "    .dataframe tbody tr th:only-of-type {\n",
              "        vertical-align: middle;\n",
              "    }\n",
              "\n",
              "    .dataframe tbody tr th {\n",
              "        vertical-align: top;\n",
              "    }\n",
              "\n",
              "    .dataframe thead th {\n",
              "        text-align: right;\n",
              "    }\n",
              "</style>\n",
              "<table border=\"1\" class=\"dataframe\">\n",
              "  <thead>\n",
              "    <tr style=\"text-align: right;\">\n",
              "      <th></th>\n",
              "      <th>0</th>\n",
              "      <th>1</th>\n",
              "    </tr>\n",
              "  </thead>\n",
              "  <tbody>\n",
              "    <tr>\n",
              "      <th>0</th>\n",
              "      <td>¡Hola, \\n@MaXx_imiliano\\n! Gracias por compart...</td>\n",
              "      <td>1.jfif</td>\n",
              "    </tr>\n",
              "    <tr>\n",
              "      <th>1</th>\n",
              "      <td>¡Hola, \\n@catalina_parr\\n! Gracias por tu cons...</td>\n",
              "      <td>2.jfif</td>\n",
              "    </tr>\n",
              "    <tr>\n",
              "      <th>2</th>\n",
              "      <td>¡Hola, \\n@maxxeff4\\n! Gracias por compartir. P...</td>\n",
              "      <td>3.jfif</td>\n",
              "    </tr>\n",
              "    <tr>\n",
              "      <th>3</th>\n",
              "      <td>¡Hola, \\n@JavierG650ER\\n! Gracias por tu consu...</td>\n",
              "      <td>4.jfif</td>\n",
              "    </tr>\n",
              "    <tr>\n",
              "      <th>4</th>\n",
              "      <td>¡Hola, \\n@headcrusher666\\n! Gracias por tu con...</td>\n",
              "      <td>5.jfif</td>\n",
              "    </tr>\n",
              "  </tbody>\n",
              "</table>\n",
              "</div>"
            ],
            "text/plain": [
              "                                                   0       1\n",
              "0  ¡Hola, \\n@MaXx_imiliano\\n! Gracias por compart...  1.jfif\n",
              "1  ¡Hola, \\n@catalina_parr\\n! Gracias por tu cons...  2.jfif\n",
              "2  ¡Hola, \\n@maxxeff4\\n! Gracias por compartir. P...  3.jfif\n",
              "3  ¡Hola, \\n@JavierG650ER\\n! Gracias por tu consu...  4.jfif\n",
              "4  ¡Hola, \\n@headcrusher666\\n! Gracias por tu con...  5.jfif"
            ]
          },
          "metadata": {},
          "execution_count": 4
        }
      ]
    },
    {
      "cell_type": "code",
      "metadata": {
        "colab": {
          "base_uri": "https://localhost:8080/",
          "height": 52
        },
        "id": "Xuy1d5Bzd1Zp",
        "outputId": "2585cdb0-343f-4741-f00f-faa254160168"
      },
      "source": [
        "data[0][0]"
      ],
      "execution_count": 5,
      "outputs": [
        {
          "output_type": "execute_result",
          "data": {
            "application/vnd.google.colaboratory.intrinsic+json": {
              "type": "string"
            },
            "text/plain": [
              "'¡Hola, \\n@MaXx_imiliano\\n! Gracias por compartir. Pertenece a la familia #Araneidae, del género #Neoscona probablemente. Se les conoce como arañas de jardín o de tela orbicular. No son consideradas de importancia médica #NIMWhite heavy check mark'"
            ]
          },
          "metadata": {},
          "execution_count": 5
        }
      ]
    },
    {
      "cell_type": "code",
      "metadata": {
        "id": "7MmDhuCQ9eX6"
      },
      "source": [
        "def format_tweet(column):\n",
        "  if '#IM' in column:\n",
        "    return 1\n",
        "  else:\n",
        "    return 0"
      ],
      "execution_count": 6,
      "outputs": []
    },
    {
      "cell_type": "code",
      "metadata": {
        "colab": {
          "base_uri": "https://localhost:8080/",
          "height": 205
        },
        "id": "RxM-chWo9TTg",
        "outputId": "46deaa5c-1fbe-4899-ea47-ec66afa3b64d"
      },
      "source": [
        "df = data.copy()\n",
        "df[0] = df[0].apply(format_tweet)\n",
        "df.head()"
      ],
      "execution_count": 7,
      "outputs": [
        {
          "output_type": "execute_result",
          "data": {
            "text/html": [
              "<div>\n",
              "<style scoped>\n",
              "    .dataframe tbody tr th:only-of-type {\n",
              "        vertical-align: middle;\n",
              "    }\n",
              "\n",
              "    .dataframe tbody tr th {\n",
              "        vertical-align: top;\n",
              "    }\n",
              "\n",
              "    .dataframe thead th {\n",
              "        text-align: right;\n",
              "    }\n",
              "</style>\n",
              "<table border=\"1\" class=\"dataframe\">\n",
              "  <thead>\n",
              "    <tr style=\"text-align: right;\">\n",
              "      <th></th>\n",
              "      <th>0</th>\n",
              "      <th>1</th>\n",
              "    </tr>\n",
              "  </thead>\n",
              "  <tbody>\n",
              "    <tr>\n",
              "      <th>0</th>\n",
              "      <td>0</td>\n",
              "      <td>1.jfif</td>\n",
              "    </tr>\n",
              "    <tr>\n",
              "      <th>1</th>\n",
              "      <td>0</td>\n",
              "      <td>2.jfif</td>\n",
              "    </tr>\n",
              "    <tr>\n",
              "      <th>2</th>\n",
              "      <td>0</td>\n",
              "      <td>3.jfif</td>\n",
              "    </tr>\n",
              "    <tr>\n",
              "      <th>3</th>\n",
              "      <td>0</td>\n",
              "      <td>4.jfif</td>\n",
              "    </tr>\n",
              "    <tr>\n",
              "      <th>4</th>\n",
              "      <td>0</td>\n",
              "      <td>5.jfif</td>\n",
              "    </tr>\n",
              "  </tbody>\n",
              "</table>\n",
              "</div>"
            ],
            "text/plain": [
              "   0       1\n",
              "0  0  1.jfif\n",
              "1  0  2.jfif\n",
              "2  0  3.jfif\n",
              "3  0  4.jfif\n",
              "4  0  5.jfif"
            ]
          },
          "metadata": {},
          "execution_count": 7
        }
      ]
    },
    {
      "cell_type": "code",
      "metadata": {
        "id": "ZU65ysThxPgb"
      },
      "source": [
        "img_size = 224\n",
        "def get_data(data_dir, df):\n",
        "  data = [] \n",
        "  for index, row in df.iterrows():\n",
        "    class_num = row[0]\n",
        "    try:\n",
        "      img_arr = cv2.imread(os.path.join(data_dir, row[1].strip()))[...,::-1] #convert BGR to RGB format\n",
        "      resized_arr = cv2.resize(img_arr, (img_size, img_size)) # Reshaping images to preferred size\n",
        "      data.append([resized_arr, class_num])\n",
        "    except Exception as e:\n",
        "      print(e)\n",
        "  return np.array(data)"
      ],
      "execution_count": 8,
      "outputs": []
    },
    {
      "cell_type": "code",
      "metadata": {
        "id": "MgibdAvbEE_W"
      },
      "source": [
        "def train_val_split(df, path_name, train_size=0.8, shuffle=True):\n",
        "  all_images = df.copy()\n",
        "  if shuffle:\n",
        "    all_images = all_images.sample(frac=1).reset_index(drop=True)\n",
        "\n",
        "  train_size = int(len(all_images) * train_size)\n",
        "\n",
        "  training_data = get_data(path_name, all_images[:train_size])\n",
        "  validation_data = get_data(path_name, all_images[train_size:])\n",
        "  return training_data, validation_data"
      ],
      "execution_count": 9,
      "outputs": []
    },
    {
      "cell_type": "code",
      "metadata": {
        "colab": {
          "base_uri": "https://localhost:8080/"
        },
        "id": "CxyjSi5I_vnh",
        "outputId": "cbafb480-8a57-427d-9375-b129b0e5def7"
      },
      "source": [
        "# train = get_data(path_name_train, df[:120])\n",
        "# val = get_data(path_name_test, df[120:])\n",
        "train, val = train_val_split(df, path_name)"
      ],
      "execution_count": 10,
      "outputs": [
        {
          "output_type": "stream",
          "name": "stderr",
          "text": [
            "/usr/local/lib/python3.7/dist-packages/ipykernel_launcher.py:12: VisibleDeprecationWarning: Creating an ndarray from ragged nested sequences (which is a list-or-tuple of lists-or-tuples-or ndarrays with different lengths or shapes) is deprecated. If you meant to do this, you must specify 'dtype=object' when creating the ndarray\n",
            "  if sys.path[0] == '':\n"
          ]
        }
      ]
    },
    {
      "cell_type": "code",
      "metadata": {
        "id": "iHV1o7i3AAd8"
      },
      "source": [
        "x_train = []\n",
        "y_train = []\n",
        "x_val = []\n",
        "y_val = []\n",
        "\n",
        "for feature, label in train:\n",
        "  x_train.append(feature)\n",
        "  y_train.append(label)\n",
        "\n",
        "for feature, label in val:\n",
        "  x_val.append(feature)\n",
        "  y_val.append(label)\n",
        "\n",
        "x_train = np.array(x_train) / 255\n",
        "x_val = np.array(x_val) / 255\n",
        "\n",
        "x_train.reshape(-1, img_size, img_size, 1)\n",
        "y_train = np.array(y_train)\n",
        "\n",
        "x_val.reshape(-1, img_size, img_size, 1)\n",
        "y_val = np.array(y_val)"
      ],
      "execution_count": 14,
      "outputs": []
    },
    {
      "cell_type": "code",
      "metadata": {
        "id": "1j6tnsuHA4n-"
      },
      "source": [
        "datagen = ImageDataGenerator(\n",
        "        featurewise_center=False,  # set input mean to 0 over the dataset\n",
        "        samplewise_center=False,  # set each sample mean to 0\n",
        "        featurewise_std_normalization=False,  # divide inputs by std of the dataset\n",
        "        samplewise_std_normalization=False,  # divide each input by its std\n",
        "        zca_whitening=False,  # apply ZCA whitening\n",
        "        rotation_range = 30,  # randomly rotate images in the range (degrees, 0 to 180)\n",
        "        zoom_range = 0.2, # Randomly zoom image \n",
        "        width_shift_range=0.1,  # randomly shift images horizontally (fraction of total width)\n",
        "        height_shift_range=0.1,  # randomly shift images vertically (fraction of total height)\n",
        "        horizontal_flip = True,  # randomly flip images\n",
        "        vertical_flip=False)"
      ],
      "execution_count": 15,
      "outputs": []
    },
    {
      "cell_type": "code",
      "metadata": {
        "id": "ruBDpDQiBvDm"
      },
      "source": [
        "datagen.fit(x_train)"
      ],
      "execution_count": 16,
      "outputs": []
    },
    {
      "cell_type": "code",
      "metadata": {
        "colab": {
          "base_uri": "https://localhost:8080/"
        },
        "id": "LPTbP7tbBvn2",
        "outputId": "e99f5010-ebd0-40aa-d2d0-64cac3ad9ede"
      },
      "source": [
        "model = Sequential()\n",
        "model.add(Conv2D(64, 3, activation=\"relu\", input_shape=(224,224,3)))\n",
        "model.add(MaxPool2D())\n",
        "\n",
        "model.add(Conv2D(32, 3, activation=\"relu\"))\n",
        "model.add(MaxPool2D())\n",
        "\n",
        "model.add(Conv2D(16, 3, activation=\"relu\"))\n",
        "model.add(MaxPool2D())\n",
        "model.add(Dropout(0.45))\n",
        "\n",
        "model.add(Flatten())\n",
        "model.add(Dense(128,activation=\"relu\"))\n",
        "model.add(Dense(2, activation=\"sigmoid\"))\n",
        "\n",
        "model.summary()"
      ],
      "execution_count": 4,
      "outputs": [
        {
          "output_type": "stream",
          "name": "stdout",
          "text": [
            "Model: \"sequential_1\"\n",
            "_________________________________________________________________\n",
            "Layer (type)                 Output Shape              Param #   \n",
            "=================================================================\n",
            "conv2d_3 (Conv2D)            (None, 222, 222, 64)      1792      \n",
            "_________________________________________________________________\n",
            "max_pooling2d_3 (MaxPooling2 (None, 111, 111, 64)      0         \n",
            "_________________________________________________________________\n",
            "conv2d_4 (Conv2D)            (None, 109, 109, 32)      18464     \n",
            "_________________________________________________________________\n",
            "max_pooling2d_4 (MaxPooling2 (None, 54, 54, 32)        0         \n",
            "_________________________________________________________________\n",
            "conv2d_5 (Conv2D)            (None, 52, 52, 16)        4624      \n",
            "_________________________________________________________________\n",
            "max_pooling2d_5 (MaxPooling2 (None, 26, 26, 16)        0         \n",
            "_________________________________________________________________\n",
            "dropout_1 (Dropout)          (None, 26, 26, 16)        0         \n",
            "_________________________________________________________________\n",
            "flatten_1 (Flatten)          (None, 10816)             0         \n",
            "_________________________________________________________________\n",
            "dense_2 (Dense)              (None, 128)               1384576   \n",
            "_________________________________________________________________\n",
            "dense_3 (Dense)              (None, 2)                 258       \n",
            "=================================================================\n",
            "Total params: 1,409,714\n",
            "Trainable params: 1,409,714\n",
            "Non-trainable params: 0\n",
            "_________________________________________________________________\n"
          ]
        }
      ]
    },
    {
      "cell_type": "code",
      "metadata": {
        "id": "fJA1B4usCDBs"
      },
      "source": [
        "opt = keras.optimizers.Adam(learning_rate=0.01)\n",
        "model.compile(optimizer = opt , loss = tf.keras.losses.BinaryCrossentropy(from_logits=True) , metrics = ['accuracy'])"
      ],
      "execution_count": 18,
      "outputs": []
    },
    {
      "cell_type": "code",
      "metadata": {
        "colab": {
          "base_uri": "https://localhost:8080/"
        },
        "id": "uSAN81yMCDiC",
        "outputId": "4b2c718d-13b2-47b8-e3bf-d89aaf43041d"
      },
      "source": [
        "history = model.fit(x_train,y_train,epochs = 10 , validation_data = (x_val, y_val))"
      ],
      "execution_count": 19,
      "outputs": [
        {
          "output_type": "stream",
          "name": "stdout",
          "text": [
            "Epoch 1/10\n"
          ]
        },
        {
          "output_type": "stream",
          "name": "stderr",
          "text": [
            "/usr/local/lib/python3.7/dist-packages/keras/backend.py:4907: UserWarning: \"`sparse_categorical_crossentropy` received `from_logits=True`, but the `output` argument was produced by a sigmoid or softmax activation and thus does not represent logits. Was this intended?\"\n",
            "  '\"`sparse_categorical_crossentropy` received `from_logits=True`, but '\n"
          ]
        },
        {
          "output_type": "stream",
          "name": "stdout",
          "text": [
            "4/4 [==============================] - 12s 3s/step - loss: 4.0485 - accuracy: 0.4583 - val_loss: 0.6722 - val_accuracy: 0.9000\n",
            "Epoch 2/10\n",
            "4/4 [==============================] - 10s 2s/step - loss: 0.6198 - accuracy: 0.7833 - val_loss: 0.6317 - val_accuracy: 0.9000\n",
            "Epoch 3/10\n",
            "4/4 [==============================] - 10s 2s/step - loss: 0.6177 - accuracy: 0.7833 - val_loss: 0.6353 - val_accuracy: 0.9000\n",
            "Epoch 4/10\n",
            "4/4 [==============================] - 10s 2s/step - loss: 0.6566 - accuracy: 0.7833 - val_loss: 0.6038 - val_accuracy: 0.9000\n",
            "Epoch 5/10\n",
            "4/4 [==============================] - 10s 2s/step - loss: 0.6221 - accuracy: 0.7833 - val_loss: 0.5668 - val_accuracy: 0.9000\n",
            "Epoch 6/10\n",
            "4/4 [==============================] - 10s 2s/step - loss: 1.2375 - accuracy: 0.7833 - val_loss: 0.4842 - val_accuracy: 0.9000\n",
            "Epoch 7/10\n",
            "4/4 [==============================] - 10s 2s/step - loss: 0.5692 - accuracy: 0.7833 - val_loss: 0.4961 - val_accuracy: 0.9000\n",
            "Epoch 8/10\n",
            "4/4 [==============================] - 10s 2s/step - loss: 0.5623 - accuracy: 0.7833 - val_loss: 0.4584 - val_accuracy: 0.9000\n",
            "Epoch 9/10\n",
            "4/4 [==============================] - 10s 2s/step - loss: 0.5452 - accuracy: 0.7833 - val_loss: 0.4208 - val_accuracy: 0.9000\n",
            "Epoch 10/10\n",
            "4/4 [==============================] - 10s 2s/step - loss: 0.5277 - accuracy: 0.7833 - val_loss: 0.3923 - val_accuracy: 0.9000\n"
          ]
        }
      ]
    },
    {
      "cell_type": "code",
      "metadata": {
        "id": "DNIcN_hbC5iK"
      },
      "source": [
        "model.compile(optimizer = 'adam' , loss='binary_crossentropy' , metrics = ['accuracy'])"
      ],
      "execution_count": 20,
      "outputs": []
    },
    {
      "cell_type": "code",
      "metadata": {
        "colab": {
          "base_uri": "https://localhost:8080/"
        },
        "id": "gqvBLZ8tIAQD",
        "outputId": "517294ef-881e-4b95-b860-4b76fdcf37c0"
      },
      "source": [
        "history = model.fit(x_train, y_train, epochs = 10, steps_per_epoch=5, validation_data = (x_val, y_val))"
      ],
      "execution_count": 21,
      "outputs": [
        {
          "output_type": "stream",
          "name": "stdout",
          "text": [
            "Epoch 1/10\n",
            "5/5 [==============================] - 10s 2s/step - loss: 0.5255 - accuracy: 0.7833 - val_loss: 0.3904 - val_accuracy: 0.9000\n",
            "Epoch 2/10\n",
            "5/5 [==============================] - 10s 2s/step - loss: 0.5243 - accuracy: 0.7833 - val_loss: 0.3884 - val_accuracy: 0.9000\n",
            "Epoch 3/10\n",
            "5/5 [==============================] - 10s 2s/step - loss: 0.5239 - accuracy: 0.7833 - val_loss: 0.3867 - val_accuracy: 0.9000\n",
            "Epoch 4/10\n",
            "5/5 [==============================] - 10s 2s/step - loss: 0.5237 - accuracy: 0.7833 - val_loss: 0.3852 - val_accuracy: 0.9000\n",
            "Epoch 5/10\n",
            "5/5 [==============================] - 10s 2s/step - loss: 0.5234 - accuracy: 0.7833 - val_loss: 0.3832 - val_accuracy: 0.9000\n",
            "Epoch 6/10\n",
            "5/5 [==============================] - 10s 2s/step - loss: 0.5233 - accuracy: 0.7833 - val_loss: 0.3813 - val_accuracy: 0.9000\n",
            "Epoch 7/10\n",
            "5/5 [==============================] - 10s 2s/step - loss: 0.5231 - accuracy: 0.7833 - val_loss: 0.3804 - val_accuracy: 0.9000\n",
            "Epoch 8/10\n",
            "5/5 [==============================] - 10s 2s/step - loss: 0.5230 - accuracy: 0.7833 - val_loss: 0.3790 - val_accuracy: 0.9000\n",
            "Epoch 9/10\n",
            "5/5 [==============================] - 10s 2s/step - loss: 0.5229 - accuracy: 0.7833 - val_loss: 0.3779 - val_accuracy: 0.9000\n",
            "Epoch 10/10\n",
            "5/5 [==============================] - 10s 2s/step - loss: 0.5229 - accuracy: 0.7833 - val_loss: 0.3767 - val_accuracy: 0.9000\n"
          ]
        }
      ]
    },
    {
      "cell_type": "code",
      "metadata": {
        "colab": {
          "base_uri": "https://localhost:8080/"
        },
        "id": "HBLHAoE5ITie",
        "outputId": "5816df44-fadb-45f3-fe28-32f732344624"
      },
      "source": [
        "y_train"
      ],
      "execution_count": 22,
      "outputs": [
        {
          "output_type": "execute_result",
          "data": {
            "text/plain": [
              "array([0, 0, 1, 0, 0, 1, 1, 1, 1, 0, 0, 0, 0, 1, 0, 0, 0, 0, 0, 0, 0, 0,\n",
              "       0, 0, 0, 1, 0, 0, 0, 1, 1, 0, 0, 1, 0, 0, 0, 1, 0, 0, 0, 0, 0, 0,\n",
              "       0, 0, 1, 0, 0, 0, 0, 0, 0, 0, 0, 0, 0, 1, 0, 1, 0, 0, 0, 0, 0, 0,\n",
              "       1, 0, 0, 1, 1, 0, 0, 0, 1, 0, 0, 0, 0, 0, 0, 0, 0, 0, 0, 0, 0, 1,\n",
              "       0, 0, 1, 0, 0, 0, 1, 0, 0, 0, 0, 0, 0, 0, 0, 0, 0, 1, 0, 0, 1, 1,\n",
              "       0, 0, 0, 1, 0, 0, 1, 0, 0, 0])"
            ]
          },
          "metadata": {},
          "execution_count": 22
        }
      ]
    }
  ]
}